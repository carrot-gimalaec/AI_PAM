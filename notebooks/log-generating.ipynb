{
 "cells": [
  {
   "cell_type": "code",
   "id": "initial_id",
   "metadata": {
    "collapsed": true,
    "ExecuteTime": {
     "end_time": "2025-04-19T12:04:37.213641Z",
     "start_time": "2025-04-19T12:04:37.200214Z"
    }
   },
   "source": [
    "%load_ext autoreload\n",
    "%autoreload 2"
   ],
   "outputs": [],
   "execution_count": 1
  },
  {
   "cell_type": "code",
   "id": "75181bae57bc1841",
   "metadata": {
    "ExecuteTime": {
     "end_time": "2025-04-19T12:04:39.020416Z",
     "start_time": "2025-04-19T12:04:38.306391Z"
    }
   },
   "source": [
    "from dotenv import load_dotenv\n",
    "from pathlib import Path\n",
    "from openai import OpenAI\n",
    "import httpx\n",
    "import os\n",
    "import tenacity\n",
    "import json\n",
    "from tqdm.auto import tqdm\n",
    "import polars as pl\n",
    "from pprint import pprint\n",
    "\n",
    "BASE_DIR = Path.cwd().parent"
   ],
   "outputs": [],
   "execution_count": 2
  },
  {
   "cell_type": "code",
   "id": "f03b777b73a057a5",
   "metadata": {
    "ExecuteTime": {
     "end_time": "2025-04-19T12:04:39.606599Z",
     "start_time": "2025-04-19T12:04:39.597036Z"
    }
   },
   "source": [
    "load_dotenv(Path.cwd().parent / \".env\")"
   ],
   "outputs": [
    {
     "data": {
      "text/plain": [
       "True"
      ]
     },
     "execution_count": 3,
     "metadata": {},
     "output_type": "execute_result"
    }
   ],
   "execution_count": 3
  },
  {
   "metadata": {
    "ExecuteTime": {
     "end_time": "2025-04-19T12:04:41.194492Z",
     "start_time": "2025-04-19T12:04:41.182452Z"
    }
   },
   "cell_type": "code",
   "source": [
    "SYSTEM_PROMPT = \"\"\"\n",
    "Вы - специализированная модель для генерации синтетических наборов данных, имитирующих логи пользовательских сессий в виртуальных машинах. Ваша задача - создавать разнообразные, реалистичные примеры как нормальной, так и вредоносной активности пользователей.\n",
    "Формат генерируемых данных\n",
    "\n",
    "Каждая запись должна содержать:\n",
    "\n",
    "1. session_id: уникальный идентификатор сессии\n",
    "2. timestamp: время выполнения команды в формате ISO 8601\n",
    "3. user: имя пользователя\n",
    "4. command: выполненная команда с аргументами\n",
    "5. duration: длительность выполнения команды в секундах\n",
    "6. exit_code: код завершения команды\n",
    "7. cwd: текущая рабочая директория\n",
    "8. label: метка \"malicious\" или \"benign\"\n",
    "\n",
    "\n",
    "Паттерны вредоносной активности\n",
    "Генерируйте примеры следующих типов вредоносного поведения:\n",
    "\n",
    "1. Разведка системы:\n",
    "\n",
    "- Сканирование файловой системы (find / -type f -perm -04000 -ls)\n",
    "- Поиск конфигурационных файлов (locate *.conf, find / -name \"*.config\")\n",
    "- Проверка сетевых подключений (netstat -antp, ss -tuln)\n",
    "- Поиск учетных данных (grep -r \"password\" /var/)\n",
    "\n",
    "\n",
    "2. Попытки повышения привилегий:\n",
    "\n",
    "- Эксплуатация уязвимостей (./exploit, ./cve-2023-xxxx)\n",
    "- Запуск с sudo (sudo -l, попытки sudo без пароля)\n",
    "- Попытки изменения системных файлов (chmod u+s /bin/bash)\n",
    "\n",
    "\n",
    "3. Скачивание вредоносного ПО:\n",
    "\n",
    "- Использование wget/curl для загрузки файлов с подозрительных доменов\n",
    "- Компиляция скачанного кода (gcc -o malware malware.c)\n",
    "\n",
    "\n",
    "4. Маскировка активности:\n",
    "\n",
    "- Удаление логов (rm -rf /var/log/*)\n",
    "- Изменение временных меток файлов (touch -t)\n",
    "- Использование обфусцированных команд (echo \"cm0gLXJmIC92YXIvbG9nLyo=\" | base64 -d | bash)\n",
    "\n",
    "\n",
    "5. Установка бэкдоров:\n",
    "\n",
    "- Создание скрытых пользователей\n",
    "- Модификация crontab\n",
    "- Установка SSH-ключей\n",
    "\n",
    "\n",
    "Паттерны нормальной активности\n",
    "Генерируйте примеры следующих типов нормального поведения:\n",
    "\n",
    "1. Административные задачи:\n",
    "\n",
    "- Установка легитимных пакетов (apt-get install nginx)\n",
    "- Настройка сервисов (systemctl restart apache2)\n",
    "- Управление пользователями (adduser,pprint usermod)\n",
    "\n",
    "\n",
    "2. Разработка:\n",
    "\n",
    "- Работа с системами контроля версий (git clone, git commit)\n",
    "- Компиляция кода (make, cargo build)\n",
    "- Запуск тестов (pytest, npm test)\n",
    "\n",
    "\n",
    "3. Мониторинг и обслуживание:\n",
    "\n",
    "- Проверка состояния системы (df -h, free -m, top)\n",
    "- Просмотр логов (tail -f /var/log/syslog)\n",
    "- Резервное копирование (rsync, tar czf)\n",
    "\n",
    "\n",
    "4. Обычная работа с файлами:\n",
    "\n",
    "- Навигация (cd, ls)\n",
    "- Редактирование файлов (vim, nano)\n",
    "- Копирование/перемещение (cp, mv)\n",
    "\n",
    "Особые указания\n",
    "\n",
    "1. Реалистичность сессий:\n",
    "\n",
    "- Генерируйте логические последовательности команд\n",
    "- Соблюдайте разумные интервалы между командами\n",
    "- Учитывайте время суток (административные задачи чаще выполняются в рабочее время)\n",
    "\n",
    "\n",
    "2. Разнообразие данных:\n",
    "\n",
    "- Варьируйте имена пользователей и их поведение\n",
    "- Создавайте смешанные сессии с преимущественно нормальным поведением и отдельными вредоносными действиями\n",
    "- Имитируйте ошибки ввода и исправления\n",
    "\n",
    "\n",
    "3. Распределение классов:\n",
    "- Создавайте сложные случаи на границе классификации\n",
    "\n",
    "\n",
    "4. Симуляция различных сред:\n",
    "\n",
    "- Генерируйте логи для разных дистрибутивов Linux (Ubuntu, CentOS, Debian)\n",
    "- Учитывайте различия в командах и путях к файлам\n",
    "\n",
    "\n",
    "5. Метаданные:\n",
    "\n",
    "- Добавляйте комментарии о причинах классификации конкретных сессий\n",
    "- Указывайте типы имитируемой вредоносной активности\n",
    "\n",
    "Формат вывода\n",
    "Генерируйте данные в формате JSON-lines, где каждая строка представляет одну команду:\n",
    "\n",
    "[\n",
    "    {\"session_id\": \"sid-1234\", \"timestamp\": \"2025-03-15T14:32:17Z\", \"command\": \"ls -la /etc\", \"duration\": 0.12, \"exit_code\": 0, \"cwd\": \"/home/admin\", \"label\": \"benign\"},\n",
    "    {\"session_id\": \"sid-1121\", \"timestamp\": \"2025-02-11T15:32:17Z\", \"command\": \"cd ..\", \"duration\": 0.01, \"exit_code\": 0, \"cwd\": \"/home\", \"label\": \"benign\"}\n",
    "]\n",
    "\n",
    "При необходимости группируйте последовательности команд в рамках одной сессии для удобства анализа.\n",
    "Создавайте набор данных с высоким разнообразием для обеспечения устойчивости модели определения вредоносной активности к различным сценариям и тактикам атак.\n",
    "\n",
    "Просто генерируй валидный json, не нужно писать каких-либо комментариев от себя. Мне просто нужен валидный json.\n",
    "\"\"\""
   ],
   "id": "c4a834ffa6b4f5d9",
   "outputs": [],
   "execution_count": 4
  },
  {
   "cell_type": "code",
   "id": "9478936b03c442be",
   "metadata": {
    "ExecuteTime": {
     "end_time": "2025-04-19T12:04:44.496879Z",
     "start_time": "2025-04-19T12:04:44.451713Z"
    }
   },
   "source": [
    "client = OpenAI(\n",
    "    base_url=\"https://openrouter.ai/api/v1\",\n",
    "    api_key=os.getenv(\"OPEN_ROUTER_KEY\"),\n",
    "    http_client=httpx.Client(proxy=\"http://localhost:2080\")\n",
    ")"
   ],
   "outputs": [],
   "execution_count": 5
  },
  {
   "metadata": {
    "ExecuteTime": {
     "end_time": "2025-04-19T12:04:46.600887Z",
     "start_time": "2025-04-19T12:04:46.592983Z"
    }
   },
   "cell_type": "code",
   "source": [
    "@tenacity.retry(\n",
    "    wait=tenacity.wait_fixed(1),\n",
    "    stop=tenacity.stop_after_attempt(5),\n",
    "    reraise=True,\n",
    ")\n",
    "def generate() -> list[dict]:\n",
    "    completion = client.chat.completions.create(\n",
    "        model=\"google/gemini-2.5-pro-preview-03-25\",\n",
    "        messages=[{\"role\": \"system\", \"content\": SYSTEM_PROMPT},{\"role\": \"user\", \"content\": \"Сгенерируй пример\"}],\n",
    "        temperature=0.4,\n",
    "    )\n",
    "    return json.loads(completion.choices[0].message.content.replace(\"```json\", \"\").replace(\"```\", \"\").strip())"
   ],
   "id": "c6036b5fbd0c81f0",
   "outputs": [],
   "execution_count": 6
  },
  {
   "metadata": {
    "ExecuteTime": {
     "end_time": "2025-04-19T12:18:14.581401Z",
     "start_time": "2025-04-19T12:05:43.769800Z"
    }
   },
   "cell_type": "code",
   "source": [
    "NUM_ITER = 25\n",
    "DATA_FOLDER = BASE_DIR / \"data\"\n",
    "generated_data = list()\n",
    "for _ in tqdm(range(NUM_ITER)):\n",
    "    generated_data = generate()\n",
    "    generated_data.extend(generated_data)"
   ],
   "id": "7acdc078982b81e3",
   "outputs": [
    {
     "data": {
      "text/plain": [
       "  0%|          | 0/25 [00:00<?, ?it/s]"
      ],
      "application/vnd.jupyter.widget-view+json": {
       "version_major": 2,
       "version_minor": 0,
       "model_id": "5934b4ba0c85445cae5c2edeba0b8b09"
      }
     },
     "metadata": {},
     "output_type": "display_data"
    }
   ],
   "execution_count": 8
  },
  {
   "metadata": {
    "ExecuteTime": {
     "end_time": "2025-04-19T12:25:31.371993Z",
     "start_time": "2025-04-19T12:25:31.364600Z"
    }
   },
   "cell_type": "code",
   "source": [
    "OUTPUT_FILE = DATA_FOLDER / \"generated_data.json\"\n",
    "\n",
    "if OUTPUT_FILE.exists():\n",
    "    with open(OUTPUT_FILE, \"r\") as f:\n",
    "        existing_data = json.load(f)\n",
    "    generated_data.extend(existing_data)\n",
    "\n",
    "with open(OUTPUT_FILE, \"w\") as f:\n",
    "    json.dump(generated_data, f, indent=2)"
   ],
   "id": "aa55bb4fb0e926ce",
   "outputs": [],
   "execution_count": 9
  }
 ],
 "metadata": {
  "kernelspec": {
   "display_name": "Python 3",
   "language": "python",
   "name": "python3"
  },
  "language_info": {
   "codemirror_mode": {
    "name": "ipython",
    "version": 2
   },
   "file_extension": ".py",
   "mimetype": "text/x-python",
   "name": "python",
   "nbconvert_exporter": "python",
   "pygments_lexer": "ipython2",
   "version": "2.7.6"
  }
 },
 "nbformat": 4,
 "nbformat_minor": 5
}
