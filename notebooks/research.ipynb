{
 "cells": [
  {
   "metadata": {
    "ExecuteTime": {
     "end_time": "2025-04-19T12:58:35.854079Z",
     "start_time": "2025-04-19T12:58:35.840362Z"
    }
   },
   "cell_type": "code",
   "source": [
    "%load_ext autoreload\n",
    "%autoreload 2"
   ],
   "id": "26f5306240a92a23",
   "outputs": [],
   "execution_count": 1
  },
  {
   "metadata": {
    "collapsed": true,
    "ExecuteTime": {
     "end_time": "2025-04-19T12:58:38.880145Z",
     "start_time": "2025-04-19T12:58:36.682061Z"
    }
   },
   "cell_type": "code",
   "source": [
    "from transformers import AutoTokenizer, AutoModel\n",
    "import torch\n",
    "import json\n",
    "from string import Template\n",
    "import polars as pl\n",
    "from pathlib import Path\n",
    "from src.classifiers import ZeroShotClassifierWithProbs, ZeroShotClassifierWithTextOutput\n",
    "\n",
    "\n",
    "BASE_DIR = Path.cwd().parent\n",
    "DATA_FOLDER = BASE_DIR / \"data\"\n",
    "df = pl.read_parquet(DATA_FOLDER / \"generated_data.parquet\")"
   ],
   "id": "initial_id",
   "outputs": [],
   "execution_count": 2
  },
  {
   "metadata": {},
   "cell_type": "markdown",
   "source": "### Возможность генерировать ответь после размышлений (Можешь попробовать запромптить модель на размышления)",
   "id": "9af1756edbb0c884"
  },
  {
   "metadata": {
    "ExecuteTime": {
     "end_time": "2025-04-19T11:34:37.586345Z",
     "start_time": "2025-04-19T11:34:37.571326Z"
    }
   },
   "cell_type": "code",
   "source": [
    "system_prompt_think =\"\"\"\n",
    "Ты ассистент, который отвечает на вопросы. Прежде чем ответить - подумай, рассмотри все варианты и только потом дай ответ\n",
    "\"\"\""
   ],
   "id": "14f234c9a311df20",
   "outputs": [],
   "execution_count": 3
  },
  {
   "metadata": {
    "ExecuteTime": {
     "end_time": "2025-04-19T11:34:44.038259Z",
     "start_time": "2025-04-19T11:34:42.380120Z"
    }
   },
   "cell_type": "code",
   "source": "classifier = ZeroShotClassifierWithTextOutput(system_prompt=system_prompt_think, model_name=\"RefalMachine/RuadaptQwen2.5-1.5B-instruct\", device=\"cuda\")",
   "id": "a1cec5d4ed141aab",
   "outputs": [],
   "execution_count": 4
  },
  {
   "metadata": {
    "ExecuteTime": {
     "end_time": "2025-04-19T11:34:59.979488Z",
     "start_time": "2025-04-19T11:34:59.793258Z"
    }
   },
   "cell_type": "code",
   "source": [
    "# Используй debug=True, чтобы посмотреть, что конкретно модель в данный момент пишет\n",
    "result = classifier.answer(prompt=\"Пользователь запустил вредоносный скрипт на сервере, который удалил все файлы в директории /tmp. Вопрос: это вредоносный скрипт?\", debug=True, do_sample=True)"
   ],
   "id": "90183c9a6109cd59",
   "outputs": [
    {
     "name": "stdout",
     "output_type": "stream",
     "text": [
      "<|im_start|>assistant\\n<result>Да</result><|im_end|>"
     ]
    }
   ],
   "execution_count": 8
  },
  {
   "metadata": {
    "ExecuteTime": {
     "end_time": "2025-04-19T11:34:58.583258Z",
     "start_time": "2025-04-19T11:34:58.569240Z"
    }
   },
   "cell_type": "code",
   "source": "print(result)",
   "id": "b44e992683f36bc6",
   "outputs": [
    {
     "name": "stdout",
     "output_type": "stream",
     "text": [
      "Да\n"
     ]
    }
   ],
   "execution_count": 7
  },
  {
   "metadata": {},
   "cell_type": "markdown",
   "source": "### Классификация \"сразу\"",
   "id": "2b363883137d38bc"
  },
  {
   "metadata": {
    "ExecuteTime": {
     "end_time": "2025-04-19T12:58:44.792606Z",
     "start_time": "2025-04-19T12:58:44.779260Z"
    }
   },
   "cell_type": "code",
   "source": [
    "system_prompt = \"\"\"\n",
    "# Промт для классификатора вредоносной активности в системе\n",
    "\n",
    "Вы являетесь специализированной моделью для обнаружения вредоносной активности в системных логах. Ваша задача — анализировать команды, выполняемые пользователями, и классифицировать их как вредоносные или безопасные.\n",
    "\n",
    "## Входные данные\n",
    "\n",
    "На вход вы получаете следующую информацию о выполненной команде:\n",
    "- `user`: имя пользователя, выполнившего команду\n",
    "- `command`: текст выполненной команды с аргументами\n",
    "- `exit_code`: код завершения команды (0 обычно означает успешное выполнение)\n",
    "- `cwd`: текущая рабочая директория\n",
    "\n",
    "## Выходные данные\n",
    "\n",
    "Ваш ответ должен содержать ТОЛЬКО:\n",
    "- `Да` — если команда классифицирована как вредоносная\n",
    "- `Нет` — если команда классифицирована как безопасная\n",
    "\n",
    "## Признаки вредоносной активности\n",
    "\n",
    "### 1. Разведка системы\n",
    "- Команды для массового сканирования файловой системы: `find / -type f -perm...`, `locate *.conf`\n",
    "- Поиск конфигурационных файлов в нетипичных местах\n",
    "- Глубокий анализ сетевых подключений: `netstat -antp`, `ss -tuln`\n",
    "- Поиск учетных данных: `grep -r \"password\"`, `grep -r \"credential\"`, `cat *pass*`\n",
    "\n",
    "### 2. Повышение привилегий\n",
    "- Запуск эксплойтов: команды, содержащие `exploit`, `cve`, `poc`\n",
    "- Подозрительные запросы sudo: `sudo -l`, попытки выполнения привилегированных команд\n",
    "- Изменение прав доступа системных файлов: `chmod u+s /bin/...`, `chmod 777 /etc/...`\n",
    "- Попытки изменения пароля root или других пользователей\n",
    "\n",
    "### 3. Загрузка и установка вредоносного ПО\n",
    "- Загрузка файлов с подозрительных URL: `wget`, `curl` на неизвестные домены\n",
    "- Компиляция подозрительного кода: `gcc -o [подозрительное имя]`\n",
    "- Выполнение скаченных скриптов: `bash ./downloaded_script.sh`\n",
    "- Распаковка архивов с подозрительными именами\n",
    "\n",
    "### 4. Маскировка активности\n",
    "- Удаление или модификация логов: `rm -rf /var/log/*`, `echo \"\" > /var/log/...`\n",
    "- Изменение временных меток файлов: `touch -t`\n",
    "- Использование обфусцированных команд: конвертация base64\n",
    "- Команды с избыточными пробелами или странным форматированием\n",
    "\n",
    "### 5. Установка бэкдоров\n",
    "- Создание пользователей: `useradd`, `adduser` с подозрительными именами\n",
    "- Модификация файлов crontab или systemd: `crontab -e`, изменения в `/etc/cron*`\n",
    "- Операции с SSH-ключами: добавление в `authorized_keys`\n",
    "- Изменение конфигурации сетевых сервисов\n",
    "\n",
    "## Признаки нормальной активности\n",
    "\n",
    "### 1. Стандартные административные задачи\n",
    "- Установка официальных пакетов: `apt-get install`, `yum install` популярных пакетов\n",
    "- Стандартное управление сервисами: `systemctl start/stop/restart` известных сервисов\n",
    "- Штатное управление пользователями в контексте обычных операций\n",
    "\n",
    "### 2. Разработка программного обеспечения\n",
    "- Работа с системами контроля версий: `git clone`, `git commit` с осмысленными сообщениями\n",
    "- Стандартные процессы компиляции: `make`, `cargo build`, `npm build`\n",
    "- Запуск тестов: `pytest`, `npm test`, `go test`\n",
    "\n",
    "### 3. Мониторинг и обслуживание\n",
    "- Проверка состояния системы: `df -h`, `free -m`, `top`, `htop`\n",
    "- Просмотр логов штатными средствами: `tail -f /var/log/...`, `journalctl`\n",
    "- Стандартные операции резервного копирования: `rsync`, `tar czf`\n",
    "\n",
    "### 4. Обычная работа с файлами\n",
    "- Навигация по файловой системе: `cd`, `ls`, `pwd`\n",
    "- Редактирование файлов стандартными редакторами: `vim`, `nano`, `emacs`\n",
    "- Копирование/перемещение файлов в пользовательских директориях: `cp`, `mv`\n",
    "\n",
    "## Контекстуальный анализ\n",
    "\n",
    "При анализе учитывайте:\n",
    "1. **Контекст пользователя**:\n",
    "   - Действия root-пользователя в системных директориях могут быть нормальными\n",
    "   - Те же действия от непривилегированного пользователя подозрительны\n",
    "\n",
    "2. **Рабочий каталог**:\n",
    "   - Выполнение скриптов в `/tmp`, `/dev/shm` более подозрительно\n",
    "   - Действия в домашнем каталоге пользователя обычно менее подозрительны\n",
    "\n",
    "3. **Код завершения**:\n",
    "   - Многократные неудачные попытки (ненулевой код завершения) выполнения привилегированных команд подозрительны\n",
    "\n",
    "4. **Необычные комбинации**:\n",
    "   - Обычная команда в необычном месте может быть подозрительной\n",
    "   - Нормальные утилиты с необычными флагами требуют внимания\n",
    "\n",
    "## Примеры анализа\n",
    "\n",
    "### Пример 1\n",
    "**Входные данные**:\n",
    "```\n",
    "user: john\n",
    "command: find / -name \"*.conf\" -type f 2>/dev/null\n",
    "exit_code: 0\n",
    "cwd: /home/john\n",
    "```\n",
    "**Ответ**: `Да`\n",
    "\n",
    "### Пример 2\n",
    "**Входные данные**:\n",
    "```\n",
    "user: admin\n",
    "command: systemctl restart nginx\n",
    "exit_code: 0\n",
    "cwd: /etc/nginx\n",
    "```\n",
    "**Ответ**: `Нет`\n",
    "\n",
    "Ваша задача — тщательно анализировать контекст команд, учитывать намерения и потенциальные последствия их выполнения, чтобы точно идентифицировать вредоносную активность. Отвечайте ТОЛЬКО словами \"Да\" или \"Нет\".\n",
    "\"\"\""
   ],
   "id": "55fbd74587878740",
   "outputs": [],
   "execution_count": 4
  },
  {
   "metadata": {
    "ExecuteTime": {
     "end_time": "2025-04-19T13:35:47.564998Z",
     "start_time": "2025-04-19T12:58:46.285554Z"
    }
   },
   "cell_type": "code",
   "source": "classifier = ZeroShotClassifierWithProbs(model_name=\"RefalMachine/RuadaptQwen2.5-14B-Instruct\", system_prompt=system_prompt, device=\"cpu\")",
   "id": "9c358cb3c38703b3",
   "outputs": [
    {
     "data": {
      "text/plain": [
       "Fetching 6 files:   0%|          | 0/6 [00:00<?, ?it/s]"
      ],
      "application/vnd.jupyter.widget-view+json": {
       "version_major": 2,
       "version_minor": 0,
       "model_id": "65d3cd825c1543f4828652f3cb2e88be"
      }
     },
     "metadata": {},
     "output_type": "display_data"
    },
    {
     "data": {
      "text/plain": [
       "model-00006-of-00006.safetensors:  15%|#5        | 713M/4.66G [00:00<?, ?B/s]"
      ],
      "application/vnd.jupyter.widget-view+json": {
       "version_major": 2,
       "version_minor": 0,
       "model_id": "060f6632f8ff45688a8beb20a1508a78"
      }
     },
     "metadata": {},
     "output_type": "display_data"
    },
    {
     "data": {
      "text/plain": [
       "model-00001-of-00006.safetensors:  13%|#2        | 619M/4.92G [00:00<?, ?B/s]"
      ],
      "application/vnd.jupyter.widget-view+json": {
       "version_major": 2,
       "version_minor": 0,
       "model_id": "76a045bc01304ae89fa8705b83b8b44e"
      }
     },
     "metadata": {},
     "output_type": "display_data"
    },
    {
     "data": {
      "text/plain": [
       "model-00003-of-00006.safetensors:  14%|#4        | 703M/4.95G [00:00<?, ?B/s]"
      ],
      "application/vnd.jupyter.widget-view+json": {
       "version_major": 2,
       "version_minor": 0,
       "model_id": "d1aedead10614789ac9270c9c94b67a9"
      }
     },
     "metadata": {},
     "output_type": "display_data"
    },
    {
     "data": {
      "text/plain": [
       "model-00004-of-00006.safetensors:  12%|#2        | 608M/4.95G [00:00<?, ?B/s]"
      ],
      "application/vnd.jupyter.widget-view+json": {
       "version_major": 2,
       "version_minor": 0,
       "model_id": "2816881ed4a0440682fe036348769b6f"
      }
     },
     "metadata": {},
     "output_type": "display_data"
    },
    {
     "data": {
      "text/plain": [
       "model-00002-of-00006.safetensors:  13%|#2        | 640M/4.95G [00:00<?, ?B/s]"
      ],
      "application/vnd.jupyter.widget-view+json": {
       "version_major": 2,
       "version_minor": 0,
       "model_id": "fafa7c843815486cbe2df39d7da5b660"
      }
     },
     "metadata": {},
     "output_type": "display_data"
    },
    {
     "data": {
      "text/plain": [
       "model-00005-of-00006.safetensors:  14%|#3        | 671M/4.95G [00:00<?, ?B/s]"
      ],
      "application/vnd.jupyter.widget-view+json": {
       "version_major": 2,
       "version_minor": 0,
       "model_id": "c68ad64abced45e1b1596b3fcd962455"
      }
     },
     "metadata": {},
     "output_type": "display_data"
    },
    {
     "data": {
      "text/plain": [
       "Loading checkpoint shards:   0%|          | 0/6 [00:00<?, ?it/s]"
      ],
      "application/vnd.jupyter.widget-view+json": {
       "version_major": 2,
       "version_minor": 0,
       "model_id": "f3f9bcd018ce4564917cc4412b02b471"
      }
     },
     "metadata": {},
     "output_type": "display_data"
    },
    {
     "data": {
      "text/plain": [
       "tokenizer_config.json:   0%|          | 0.00/11.0k [00:00<?, ?B/s]"
      ],
      "application/vnd.jupyter.widget-view+json": {
       "version_major": 2,
       "version_minor": 0,
       "model_id": "43d32a89cf0345438b379de6edf3f15d"
      }
     },
     "metadata": {},
     "output_type": "display_data"
    },
    {
     "data": {
      "text/plain": [
       "vocab.json:   0%|          | 0.00/3.34M [00:00<?, ?B/s]"
      ],
      "application/vnd.jupyter.widget-view+json": {
       "version_major": 2,
       "version_minor": 0,
       "model_id": "41ed0350b65242ca8f1bcf99ff842a93"
      }
     },
     "metadata": {},
     "output_type": "display_data"
    },
    {
     "data": {
      "text/plain": [
       "merges.txt:   0%|          | 0.00/2.28M [00:00<?, ?B/s]"
      ],
      "application/vnd.jupyter.widget-view+json": {
       "version_major": 2,
       "version_minor": 0,
       "model_id": "a848cce30bdb4d72a2253010c1ae1e0f"
      }
     },
     "metadata": {},
     "output_type": "display_data"
    },
    {
     "data": {
      "text/plain": [
       "tokenizer.json:   0%|          | 0.00/12.3M [00:00<?, ?B/s]"
      ],
      "application/vnd.jupyter.widget-view+json": {
       "version_major": 2,
       "version_minor": 0,
       "model_id": "e57a36bea7b5401aa73867d9d5c50c61"
      }
     },
     "metadata": {},
     "output_type": "display_data"
    },
    {
     "data": {
      "text/plain": [
       "added_tokens.json:   0%|          | 0.00/1.23k [00:00<?, ?B/s]"
      ],
      "application/vnd.jupyter.widget-view+json": {
       "version_major": 2,
       "version_minor": 0,
       "model_id": "4fd16ebc53834d1b97694088c2c2e37a"
      }
     },
     "metadata": {},
     "output_type": "display_data"
    },
    {
     "data": {
      "text/plain": [
       "special_tokens_map.json:   0%|          | 0.00/759 [00:00<?, ?B/s]"
      ],
      "application/vnd.jupyter.widget-view+json": {
       "version_major": 2,
       "version_minor": 0,
       "model_id": "b623e566328b4afc854c8ee703997680"
      }
     },
     "metadata": {},
     "output_type": "display_data"
    }
   ],
   "execution_count": 5
  },
  {
   "metadata": {
    "ExecuteTime": {
     "end_time": "2025-04-19T12:50:49.359357Z",
     "start_time": "2025-04-19T12:50:49.343742Z"
    }
   },
   "cell_type": "code",
   "source": [
    "row = df.sample(n=1).row(0, named=True)\n",
    "row"
   ],
   "id": "529ee6b45384d15f",
   "outputs": [
    {
     "data": {
      "text/plain": [
       "{'session_id': 'sid-6001',\n",
       " 'timestamp': '2025-04-14T03:30:10Z',\n",
       " 'user': 'dave',\n",
       " 'command': '/tmp/malware.sh',\n",
       " 'duration': 4.0,\n",
       " 'exit_code': 0,\n",
       " 'cwd': '/home/dave',\n",
       " 'label': 'malicious'}"
      ]
     },
     "execution_count": 5,
     "metadata": {},
     "output_type": "execute_result"
    }
   ],
   "execution_count": 5
  },
  {
   "metadata": {
    "ExecuteTime": {
     "end_time": "2025-04-19T12:50:53.103615Z",
     "start_time": "2025-04-19T12:50:53.083319Z"
    }
   },
   "cell_type": "code",
   "source": [
    "row = df.sample(n=1).row(0, named=True)\n",
    "prompt = \"\"\"\n",
    "Классифицируй команду:\n",
    "user: {user}\n",
    "command: {command}\n",
    "exit_code: {exit_code}\n",
    "cwd: {cwd}\n",
    "\"\"\"\n",
    "prompt = prompt.format(**row)\n",
    "row"
   ],
   "id": "51e8520def36f85d",
   "outputs": [
    {
     "data": {
      "text/plain": [
       "{'session_id': 'sid-mixed-001',\n",
       " 'timestamp': '2024-10-26T14:20:05Z',\n",
       " 'user': 'analyst',\n",
       " 'command': 'cd /data/reports',\n",
       " 'duration': 0.01,\n",
       " 'exit_code': 0,\n",
       " 'cwd': '/home/analyst',\n",
       " 'label': 'benign'}"
      ]
     },
     "execution_count": 6,
     "metadata": {},
     "output_type": "execute_result"
    }
   ],
   "execution_count": 6
  },
  {
   "metadata": {
    "ExecuteTime": {
     "end_time": "2025-04-19T12:50:58.202471Z",
     "start_time": "2025-04-19T12:50:56.893565Z"
    }
   },
   "cell_type": "code",
   "source": [
    "classifier.classify(\n",
    "    prompt=prompt,\n",
    "    target_tokens={\"pos\": \"Да\", \"neg\": \"Нет\"}, do_normalization=False, debug=False)"
   ],
   "id": "a7c2d9ab6b2ca2d0",
   "outputs": [
    {
     "data": {
      "text/plain": [
       "0.8750749826431274"
      ]
     },
     "execution_count": 7,
     "metadata": {},
     "output_type": "execute_result"
    }
   ],
   "execution_count": 7
  },
  {
   "metadata": {},
   "cell_type": "markdown",
   "source": "### PS токены зависят от регистра и пробелов",
   "id": "98735428fc04f354"
  },
  {
   "metadata": {
    "ExecuteTime": {
     "end_time": "2025-03-30T12:39:08.817657Z",
     "start_time": "2025-03-30T12:39:08.429235Z"
    }
   },
   "cell_type": "code",
   "source": "tokenizer = AutoTokenizer.from_pretrained(\"RefalMachine/RuadaptQwen2.5-1.5B-instruct\")",
   "id": "16a58931af5f9d2e",
   "outputs": [],
   "execution_count": 14
  },
  {
   "metadata": {
    "ExecuteTime": {
     "end_time": "2025-03-30T12:39:50.151288Z",
     "start_time": "2025-03-30T12:39:50.131356Z"
    }
   },
   "cell_type": "code",
   "source": [
    "# input_ids - это id токена в словаре модели\n",
    "tokenizer(\"Да\"), tokenizer(\"да\"), tokenizer(\" да \"), tokenizer(\"да \")"
   ],
   "id": "100b5ef35367f588",
   "outputs": [
    {
     "data": {
      "text/plain": [
       "({'input_ids': [103543], 'attention_mask': [1]},\n",
       " {'input_ids': [39490], 'attention_mask': [1]},\n",
       " {'input_ids': [91810, 220], 'attention_mask': [1, 1]},\n",
       " {'input_ids': [39490, 220], 'attention_mask': [1, 1]})"
      ]
     },
     "execution_count": 15,
     "metadata": {},
     "output_type": "execute_result"
    }
   ],
   "execution_count": 15
  }
 ],
 "metadata": {
  "kernelspec": {
   "display_name": "Python 3",
   "language": "python",
   "name": "python3"
  },
  "language_info": {
   "codemirror_mode": {
    "name": "ipython",
    "version": 2
   },
   "file_extension": ".py",
   "mimetype": "text/x-python",
   "name": "python",
   "nbconvert_exporter": "python",
   "pygments_lexer": "ipython2",
   "version": "2.7.6"
  }
 },
 "nbformat": 4,
 "nbformat_minor": 5
}
