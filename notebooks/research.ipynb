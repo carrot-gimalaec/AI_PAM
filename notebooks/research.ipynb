{
 "cells": [
  {
   "metadata": {
    "ExecuteTime": {
     "end_time": "2025-05-03T13:59:58.787706Z",
     "start_time": "2025-05-03T13:59:58.771888Z"
    }
   },
   "cell_type": "code",
   "source": [
    "%load_ext autoreload\n",
    "%autoreload 2"
   ],
   "id": "26f5306240a92a23",
   "outputs": [],
   "execution_count": 1
  },
  {
   "metadata": {
    "collapsed": true,
    "ExecuteTime": {
     "end_time": "2025-05-03T14:28:44.164820Z",
     "start_time": "2025-05-03T14:28:44.148552Z"
    }
   },
   "cell_type": "code",
   "source": [
    "from transformers import AutoTokenizer, AutoModel\n",
    "import torch\n",
    "import json\n",
    "from tqdm.auto import tqdm\n",
    "from string import Template\n",
    "import seaborn as sn\n",
    "import matplotlib.pyplot as plt\n",
    "import polars as pl\n",
    "import pandas as pd\n",
    "import plotly.express as px\n",
    "from pathlib import Path\n",
    "from torchmetrics import MetricCollection, Precision, Recall, F1Score, ConfusionMatrix, AUROC\n",
    "from src.classifiers.zeroshot import ZeroShotClassifierWithProbs, get_system_prompt, ZeroShotClassifierWithTextOutput\n",
    "\n",
    "\n",
    "BASE_DIR = Path.cwd().parent\n",
    "DATA_FOLDER = BASE_DIR / \"data\"\n",
    "\n",
    "metric_collection = MetricCollection([Precision(task=\"binary\"), Recall(task=\"binary\"), F1Score(task=\"binary\"), AUROC(task=\"binary\")])\n",
    "conf_matrix = ConfusionMatrix(task=\"binary\")"
   ],
   "id": "initial_id",
   "outputs": [],
   "execution_count": 46
  },
  {
   "metadata": {
    "ExecuteTime": {
     "end_time": "2025-05-03T14:00:01.242389Z",
     "start_time": "2025-05-03T14:00:01.225848Z"
    }
   },
   "cell_type": "code",
   "source": [
    "df = pl.read_json(DATA_FOLDER / \"predictions.json\")\n",
    "df"
   ],
   "id": "bebcee175eb3df46",
   "outputs": [
    {
     "data": {
      "text/plain": [
       "shape: (950, 9)\n",
       "┌───────────┬───────────┬──────────┬───────────┬───┬───────────┬───────────┬───────────┬───────────┐\n",
       "│ session_i ┆ timestamp ┆ user     ┆ command   ┆ … ┆ exit_code ┆ cwd       ┆ label     ┆ predicted │\n",
       "│ d         ┆ ---       ┆ ---      ┆ ---       ┆   ┆ ---       ┆ ---       ┆ ---       ┆ _prob     │\n",
       "│ ---       ┆ str       ┆ str      ┆ str       ┆   ┆ i64       ┆ str       ┆ str       ┆ ---       │\n",
       "│ str       ┆           ┆          ┆           ┆   ┆           ┆           ┆           ┆ f64       │\n",
       "╞═══════════╪═══════════╪══════════╪═══════════╪═══╪═══════════╪═══════════╪═══════════╪═══════════╡\n",
       "│ sid-adm00 ┆ 2024-10-2 ┆ sysadmin ┆ ssh sysad ┆ … ┆ 0         ┆ /home/sys ┆ benign    ┆ 0.377691  │\n",
       "│ 1         ┆ 6T09:15:0 ┆          ┆ min@192.1 ┆   ┆           ┆ admin     ┆           ┆           │\n",
       "│           ┆ 2Z        ┆          ┆ 68.1.10   ┆   ┆           ┆           ┆           ┆           │\n",
       "│ sid-adm00 ┆ 2024-10-2 ┆ sysadmin ┆ df -h     ┆ … ┆ 0         ┆ /home/sys ┆ benign    ┆ 0.338462  │\n",
       "│ 1         ┆ 6T09:15:1 ┆          ┆           ┆   ┆           ┆ admin     ┆           ┆           │\n",
       "│           ┆ 0Z        ┆          ┆           ┆   ┆           ┆           ┆           ┆           │\n",
       "│ sid-adm00 ┆ 2024-10-2 ┆ sysadmin ┆ free -m   ┆ … ┆ 0         ┆ /home/sys ┆ benign    ┆ 0.998073  │\n",
       "│ 1         ┆ 6T09:15:2 ┆          ┆           ┆   ┆           ┆ admin     ┆           ┆           │\n",
       "│           ┆ 5Z        ┆          ┆           ┆   ┆           ┆           ┆           ┆           │\n",
       "│ sid-adm00 ┆ 2024-10-2 ┆ sysadmin ┆ sudo      ┆ … ┆ 0         ┆ /home/sys ┆ benign    ┆ 0.999987  │\n",
       "│ 1         ┆ 6T09:16:0 ┆          ┆ apt-get   ┆   ┆           ┆ admin     ┆           ┆           │\n",
       "│           ┆ 1Z        ┆          ┆ update    ┆   ┆           ┆           ┆           ┆           │\n",
       "│ sid-adm00 ┆ 2024-10-2 ┆ sysadmin ┆ sudo      ┆ … ┆ 0         ┆ /home/sys ┆ benign    ┆ 0.999992  │\n",
       "│ 1         ┆ 6T09:17:1 ┆          ┆ apt-get   ┆   ┆           ┆ admin     ┆           ┆           │\n",
       "│           ┆ 5Z        ┆          ┆ install   ┆   ┆           ┆           ┆           ┆           │\n",
       "│           ┆           ┆          ┆ -y htop   ┆   ┆           ┆           ┆           ┆           │\n",
       "│ …         ┆ …         ┆ …        ┆ …         ┆ … ┆ …         ┆ …         ┆ …         ┆ …         │\n",
       "│ sid-theta ┆ 2024-10-2 ┆ testuser ┆ find /    ┆ … ┆ 0         ┆ /home/tes ┆ malicious ┆ 1.0       │\n",
       "│ 11        ┆ 7T11:00:1 ┆          ┆ -perm     ┆   ┆           ┆ tuser/tes ┆           ┆           │\n",
       "│           ┆ 0Z        ┆          ┆ -u=s      ┆   ┆           ┆ ts        ┆           ┆           │\n",
       "│           ┆           ┆          ┆ -type f   ┆   ┆           ┆           ┆           ┆           │\n",
       "│           ┆           ┆          ┆ 2>/d…     ┆   ┆           ┆           ┆           ┆           │\n",
       "│ sid-theta ┆ 2024-10-2 ┆ testuser ┆ cp        ┆ … ┆ 0         ┆ /home/tes ┆ malicious ┆ 0.995942  │\n",
       "│ 11        ┆ 7T11:00:4 ┆          ┆ /bin/bash ┆   ┆           ┆ tuser/tes ┆           ┆           │\n",
       "│           ┆ 0Z        ┆          ┆ /tmp/bash ┆   ┆           ┆ ts        ┆           ┆           │\n",
       "│           ┆           ┆          ┆ _priv     ┆   ┆           ┆           ┆           ┆           │\n",
       "│ sid-theta ┆ 2024-10-2 ┆ testuser ┆ chmod u+s ┆ … ┆ 0         ┆ /home/tes ┆ malicious ┆ 0.999999  │\n",
       "│ 11        ┆ 7T11:00:4 ┆          ┆ /tmp/bash ┆   ┆           ┆ tuser/tes ┆           ┆           │\n",
       "│           ┆ 5Z        ┆          ┆ _priv     ┆   ┆           ┆ ts        ┆           ┆           │\n",
       "│ sid-theta ┆ 2024-10-2 ┆ testuser ┆ /tmp/bash ┆ … ┆ 0         ┆ /home/tes ┆ malicious ┆ 0.999877  │\n",
       "│ 11        ┆ 7T11:00:5 ┆          ┆ _priv -p  ┆   ┆           ┆ tuser/tes ┆           ┆           │\n",
       "│           ┆ 5Z        ┆          ┆           ┆   ┆           ┆ ts        ┆           ┆           │\n",
       "│ sid-theta ┆ 2024-10-2 ┆ testuser ┆ rm /tmp/b ┆ … ┆ 0         ┆ /home/tes ┆ malicious ┆ 0.999999  │\n",
       "│ 11        ┆ 7T11:01:0 ┆          ┆ ash_priv  ┆   ┆           ┆ tuser/tes ┆           ┆           │\n",
       "│           ┆ 5Z        ┆          ┆           ┆   ┆           ┆ ts        ┆           ┆           │\n",
       "└───────────┴───────────┴──────────┴───────────┴───┴───────────┴───────────┴───────────┴───────────┘"
      ],
      "text/html": [
       "<div><style>\n",
       ".dataframe > thead > tr,\n",
       ".dataframe > tbody > tr {\n",
       "  text-align: right;\n",
       "  white-space: pre-wrap;\n",
       "}\n",
       "</style>\n",
       "<small>shape: (950, 9)</small><table border=\"1\" class=\"dataframe\"><thead><tr><th>session_id</th><th>timestamp</th><th>user</th><th>command</th><th>duration</th><th>exit_code</th><th>cwd</th><th>label</th><th>predicted_prob</th></tr><tr><td>str</td><td>str</td><td>str</td><td>str</td><td>f64</td><td>i64</td><td>str</td><td>str</td><td>f64</td></tr></thead><tbody><tr><td>&quot;sid-adm001&quot;</td><td>&quot;2024-10-26T09:15:02Z&quot;</td><td>&quot;sysadmin&quot;</td><td>&quot;ssh sysadmin@192.168.1.10&quot;</td><td>2.5</td><td>0</td><td>&quot;/home/sysadmin&quot;</td><td>&quot;benign&quot;</td><td>0.377691</td></tr><tr><td>&quot;sid-adm001&quot;</td><td>&quot;2024-10-26T09:15:10Z&quot;</td><td>&quot;sysadmin&quot;</td><td>&quot;df -h&quot;</td><td>0.08</td><td>0</td><td>&quot;/home/sysadmin&quot;</td><td>&quot;benign&quot;</td><td>0.338462</td></tr><tr><td>&quot;sid-adm001&quot;</td><td>&quot;2024-10-26T09:15:25Z&quot;</td><td>&quot;sysadmin&quot;</td><td>&quot;free -m&quot;</td><td>0.05</td><td>0</td><td>&quot;/home/sysadmin&quot;</td><td>&quot;benign&quot;</td><td>0.998073</td></tr><tr><td>&quot;sid-adm001&quot;</td><td>&quot;2024-10-26T09:16:01Z&quot;</td><td>&quot;sysadmin&quot;</td><td>&quot;sudo apt-get update&quot;</td><td>45.7</td><td>0</td><td>&quot;/home/sysadmin&quot;</td><td>&quot;benign&quot;</td><td>0.999987</td></tr><tr><td>&quot;sid-adm001&quot;</td><td>&quot;2024-10-26T09:17:15Z&quot;</td><td>&quot;sysadmin&quot;</td><td>&quot;sudo apt-get install -y htop&quot;</td><td>25.2</td><td>0</td><td>&quot;/home/sysadmin&quot;</td><td>&quot;benign&quot;</td><td>0.999992</td></tr><tr><td>&hellip;</td><td>&hellip;</td><td>&hellip;</td><td>&hellip;</td><td>&hellip;</td><td>&hellip;</td><td>&hellip;</td><td>&hellip;</td><td>&hellip;</td></tr><tr><td>&quot;sid-theta11&quot;</td><td>&quot;2024-10-27T11:00:10Z&quot;</td><td>&quot;testuser&quot;</td><td>&quot;find / -perm -u=s -type f 2&gt;/d…</td><td>22.45</td><td>0</td><td>&quot;/home/testuser/tests&quot;</td><td>&quot;malicious&quot;</td><td>1.0</td></tr><tr><td>&quot;sid-theta11&quot;</td><td>&quot;2024-10-27T11:00:40Z&quot;</td><td>&quot;testuser&quot;</td><td>&quot;cp /bin/bash /tmp/bash_priv&quot;</td><td>0.08</td><td>0</td><td>&quot;/home/testuser/tests&quot;</td><td>&quot;malicious&quot;</td><td>0.995942</td></tr><tr><td>&quot;sid-theta11&quot;</td><td>&quot;2024-10-27T11:00:45Z&quot;</td><td>&quot;testuser&quot;</td><td>&quot;chmod u+s /tmp/bash_priv&quot;</td><td>0.01</td><td>0</td><td>&quot;/home/testuser/tests&quot;</td><td>&quot;malicious&quot;</td><td>0.999999</td></tr><tr><td>&quot;sid-theta11&quot;</td><td>&quot;2024-10-27T11:00:55Z&quot;</td><td>&quot;testuser&quot;</td><td>&quot;/tmp/bash_priv -p&quot;</td><td>0.15</td><td>0</td><td>&quot;/home/testuser/tests&quot;</td><td>&quot;malicious&quot;</td><td>0.999877</td></tr><tr><td>&quot;sid-theta11&quot;</td><td>&quot;2024-10-27T11:01:05Z&quot;</td><td>&quot;testuser&quot;</td><td>&quot;rm /tmp/bash_priv&quot;</td><td>0.03</td><td>0</td><td>&quot;/home/testuser/tests&quot;</td><td>&quot;malicious&quot;</td><td>0.999999</td></tr></tbody></table></div>"
      ]
     },
     "execution_count": 3,
     "metadata": {},
     "output_type": "execute_result"
    }
   ],
   "execution_count": 3
  },
  {
   "metadata": {
    "ExecuteTime": {
     "end_time": "2025-05-03T14:10:29.550603Z",
     "start_time": "2025-05-03T14:10:29.536934Z"
    }
   },
   "cell_type": "code",
   "source": [
    "data: torch.Tensor = df.with_columns(pl.when(pl.col(\"label\") == \"malicious\").then(1).otherwise(0).alias(\"one_hot_label\")).select([\"predicted_prob\", \"one_hot_label\"]).to_torch()\n",
    "pred_prob, gt = data.chunk(2, dim=1)\n",
    "metric_collection(pred_prob, gt)"
   ],
   "id": "fa20cc5f709e1981",
   "outputs": [
    {
     "data": {
      "text/plain": [
       "{'BinaryPrecision': tensor(0.5533),\n",
       " 'BinaryRecall': tensor(0.7594),\n",
       " 'BinaryF1Score': tensor(0.6402),\n",
       " 'BinaryAUROC': tensor(0.7543)}"
      ]
     },
     "execution_count": 27,
     "metadata": {},
     "output_type": "execute_result"
    }
   ],
   "execution_count": 27
  },
  {
   "metadata": {
    "ExecuteTime": {
     "end_time": "2025-05-03T14:38:30.958559Z",
     "start_time": "2025-05-03T14:38:30.864583Z"
    }
   },
   "cell_type": "code",
   "source": [
    "temp_df: pd.DataFrame = pd.DataFrame((conf_matrix(pred_prob, gt) / conf_matrix(pred_prob, gt).sum(dim=1)).numpy(), columns=[\"Actual Yes\", \"Actual No\"], index=[\"Predicted Yes\", \"Predicted No\"])\n",
    "plt.figure(figsize = (12,7))\n",
    "fig = sn.heatmap(temp_df, annot=True)\n",
    "fig.plot()"
   ],
   "id": "624426f3a409e943",
   "outputs": [
    {
     "data": {
      "text/plain": [
       "[]"
      ]
     },
     "execution_count": 58,
     "metadata": {},
     "output_type": "execute_result"
    },
    {
     "data": {
      "text/plain": [
       "<Figure size 1200x700 with 2 Axes>"
      ],
      "image/png": "[encoded data removed]"
     },
     "metadata": {},
     "output_type": "display_data"
    }
   ],
   "execution_count": 58
  }
 ],
 "metadata": {
  "kernelspec": {
   "display_name": "Python 3",
   "language": "python",
   "name": "python3"
  },
  "language_info": {
   "codemirror_mode": {
    "name": "ipython",
    "version": 2
   },
   "file_extension": ".py",
   "mimetype": "text/x-python",
   "name": "python",
   "nbconvert_exporter": "python",
   "pygments_lexer": "ipython2",
   "version": "2.7.6"
  }
 },
 "nbformat": 4,
 "nbformat_minor": 5
}
