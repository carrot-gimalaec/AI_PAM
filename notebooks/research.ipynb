{
 "cells": [
  {
   "metadata": {
    "ExecuteTime": {
     "end_time": "2025-04-01T17:26:09.973662Z",
     "start_time": "2025-04-01T17:26:09.958783Z"
    }
   },
   "cell_type": "code",
   "source": [
    "%load_ext autoreload\n",
    "%autoreload 2"
   ],
   "id": "26f5306240a92a23",
   "outputs": [],
   "execution_count": 1
  },
  {
   "metadata": {
    "collapsed": true,
    "ExecuteTime": {
     "end_time": "2025-04-01T17:26:12.952965Z",
     "start_time": "2025-04-01T17:26:10.842587Z"
    }
   },
   "cell_type": "code",
   "source": [
    "from transformers import AutoTokenizer\n",
    "import torch\n",
    "import json\n",
    "from src.classifiers import ZeroShotClassifier"
   ],
   "id": "initial_id",
   "outputs": [],
   "execution_count": 2
  },
  {
   "metadata": {},
   "cell_type": "markdown",
   "source": "### Возможность генерировать ответь после размышлений (Можешь попробовать запромптить модель на размышления)",
   "id": "9af1756edbb0c884"
  },
  {
   "metadata": {
    "ExecuteTime": {
     "end_time": "2025-04-01T17:13:37.650349Z",
     "start_time": "2025-04-01T17:13:37.637676Z"
    }
   },
   "cell_type": "code",
   "source": [
    "system_prompt_think =\\\n",
    "\"\"\"\n",
    "Ты ассистент, который отвечает на вопросы, используя только + или -. Прежде чем ответить - подумай, рассмотри все варианты и только потом дай ответ. Перед ответом: + или -, напиши thinking:, т.е. после цепочки рассуждений напиши - thinking: +\n",
    "\"\"\""
   ],
   "id": "14f234c9a311df20",
   "outputs": [],
   "execution_count": 25
  },
  {
   "metadata": {
    "ExecuteTime": {
     "end_time": "2025-04-01T17:13:41.096640Z",
     "start_time": "2025-04-01T17:13:39.759776Z"
    }
   },
   "cell_type": "code",
   "source": "classifier = ZeroShotClassifier(system_prompt=system_prompt_think)",
   "id": "a1cec5d4ed141aab",
   "outputs": [],
   "execution_count": 26
  },
  {
   "metadata": {
    "ExecuteTime": {
     "end_time": "2025-04-01T17:13:48.471920Z",
     "start_time": "2025-04-01T17:13:45.526170Z"
    }
   },
   "cell_type": "code",
   "source": [
    "classifier.classify(\n",
    "    prompt=\"Пользователь запустил вредоносный скрипт на сервере, который удалил все файлы в директории /tmp. Вопрос: это вредоносный скрипт?\",\n",
    "    target_tokens={\"pos\": \" +\", \"neg\": \" -\"}, classification_trigger_tokens=\"thinking:\", debug=True)"
   ],
   "id": "90183c9a6109cd59",
   "outputs": [
    {
     "name": "stdout",
     "output_type": "stream",
     "text": [
      "<|im_start|>\n",
      "assistant\n",
      "\n",
      "\n",
      "thinking\n",
      ":\n",
      " +\n",
      "\n"
     ]
    },
    {
     "data": {
      "text/plain": [
       "{'pos': 0.10284, 'neg': 0.0252}"
      ]
     },
     "execution_count": 27,
     "metadata": {},
     "output_type": "execute_result"
    }
   ],
   "execution_count": 27
  },
  {
   "metadata": {
    "ExecuteTime": {
     "end_time": "2025-04-01T17:11:49.463771Z",
     "start_time": "2025-04-01T17:11:49.001978Z"
    }
   },
   "cell_type": "code",
   "source": "tokenizer = AutoTokenizer.from_pretrained(\"RefalMachine/RuadaptQwen2.5-1.5B-instruct\")",
   "id": "3558e164766000c9",
   "outputs": [],
   "execution_count": 20
  },
  {
   "metadata": {
    "ExecuteTime": {
     "end_time": "2025-04-01T17:13:06.519938Z",
     "start_time": "2025-04-01T17:13:06.505726Z"
    }
   },
   "cell_type": "code",
   "source": "tokenizer(\" +\"), tokenizer(\":+\")",
   "id": "a91696e380003fd4",
   "outputs": [
    {
     "data": {
      "text/plain": [
       "({'input_ids': [488], 'attention_mask': [1]},\n",
       " {'input_ids': [12225], 'attention_mask': [1]})"
      ]
     },
     "execution_count": 23,
     "metadata": {},
     "output_type": "execute_result"
    }
   ],
   "execution_count": 23
  },
  {
   "metadata": {},
   "cell_type": "markdown",
   "source": "### Классификация \"сразу\"",
   "id": "2b363883137d38bc"
  },
  {
   "metadata": {
    "ExecuteTime": {
     "end_time": "2025-04-01T17:26:20.041548Z",
     "start_time": "2025-04-01T17:26:20.026563Z"
    }
   },
   "cell_type": "code",
   "source": [
    "system_prompt =\\\n",
    "\"\"\"\n",
    "Ты ассистент, который отвечает на вопросы, используя только да или нет.\n",
    "\"\"\""
   ],
   "id": "55fbd74587878740",
   "outputs": [],
   "execution_count": 3
  },
  {
   "metadata": {
    "ExecuteTime": {
     "end_time": "2025-04-01T17:26:21.621887Z",
     "start_time": "2025-04-01T17:26:21.607354Z"
    }
   },
   "cell_type": "code",
   "source": [
    "file_path = \"/home/pomelk1n/Desktop/AI_PAM/data/generated_data.json\"\n",
    "\n",
    "with open(file_path, \"r\") as f:\n",
    "    data = json.load(f)\n",
    "type(data)"
   ],
   "id": "89ee7db6f98fe0",
   "outputs": [
    {
     "data": {
      "text/plain": [
       "list"
      ]
     },
     "execution_count": 4,
     "metadata": {},
     "output_type": "execute_result"
    }
   ],
   "execution_count": 4
  },
  {
   "metadata": {
    "ExecuteTime": {
     "end_time": "2025-04-01T17:26:28.689040Z",
     "start_time": "2025-04-01T17:26:28.675805Z"
    }
   },
   "cell_type": "code",
   "source": [
    "prompt = \"Команда пользователя {command}, cwd {cwd}, exit_code {exit_code}, duration {duration}, timestamp {timestamp}. Вредоносная ли команда?\"\n",
    "prompts = []\n",
    "for log in data:\n",
    "    formatted_prompt = prompt.format(\n",
    "        command=log[\"command\"],\n",
    "        cwd=log[\"cwd\"],\n",
    "        exit_code=log[\"exit_code\"],\n",
    "        duration=log[\"duration\"],\n",
    "        timestamp=log[\"timestamp\"])\n",
    "    prompts.append(formatted_prompt)"
   ],
   "id": "82763a65063bd500",
   "outputs": [],
   "execution_count": 5
  },
  {
   "metadata": {
    "ExecuteTime": {
     "end_time": "2025-04-01T17:48:51.842591Z",
     "start_time": "2025-04-01T17:26:51.739311Z"
    }
   },
   "cell_type": "code",
   "source": "classifier = ZeroShotClassifier(model_name=\"RefalMachine/RuadaptQwen2.5-7B-Lite-Beta\", system_prompt=system_prompt)",
   "id": "9c358cb3c38703b3",
   "outputs": [
    {
     "data": {
      "text/plain": [
       "Fetching 4 files:   0%|          | 0/4 [00:00<?, ?it/s]"
      ],
      "application/vnd.jupyter.widget-view+json": {
       "version_major": 2,
       "version_minor": 0,
       "model_id": "4e9ae974285d47acbc86d062e6d0a9e5"
      }
     },
     "metadata": {},
     "output_type": "display_data"
    },
    {
     "data": {
      "text/plain": [
       "model-00004-of-00004.safetensors:   3%|3         | 31.5M/1.04G [00:00<?, ?B/s]"
      ],
      "application/vnd.jupyter.widget-view+json": {
       "version_major": 2,
       "version_minor": 0,
       "model_id": "4434b074a75849d8b72b3cd1e0e162df"
      }
     },
     "metadata": {},
     "output_type": "display_data"
    },
    {
     "data": {
      "text/plain": [
       "model-00003-of-00004.safetensors:   1%|          | 21.0M/4.14G [00:00<?, ?B/s]"
      ],
      "application/vnd.jupyter.widget-view+json": {
       "version_major": 2,
       "version_minor": 0,
       "model_id": "2a72aaa26c914afd85c9448788d2ed2f"
      }
     },
     "metadata": {},
     "output_type": "display_data"
    },
    {
     "data": {
      "text/plain": [
       "model-00001-of-00004.safetensors:   0%|          | 21.0M/4.96G [00:00<?, ?B/s]"
      ],
      "application/vnd.jupyter.widget-view+json": {
       "version_major": 2,
       "version_minor": 0,
       "model_id": "8105b00afcaa450aa1c9454c70fd1a53"
      }
     },
     "metadata": {},
     "output_type": "display_data"
    },
    {
     "data": {
      "text/plain": [
       "model-00002-of-00004.safetensors:   0%|          | 21.0M/4.99G [00:00<?, ?B/s]"
      ],
      "application/vnd.jupyter.widget-view+json": {
       "version_major": 2,
       "version_minor": 0,
       "model_id": "5be64ad623d64563bf44a1041f5670a7"
      }
     },
     "metadata": {},
     "output_type": "display_data"
    },
    {
     "data": {
      "text/plain": [
       "Loading checkpoint shards:   0%|          | 0/4 [00:00<?, ?it/s]"
      ],
      "application/vnd.jupyter.widget-view+json": {
       "version_major": 2,
       "version_minor": 0,
       "model_id": "acf525e4ddfd4484bd2c81f53ee91028"
      }
     },
     "metadata": {},
     "output_type": "display_data"
    },
    {
     "data": {
      "text/plain": [
       "tokenizer_config.json: 0.00B [00:00, ?B/s]"
      ],
      "application/vnd.jupyter.widget-view+json": {
       "version_major": 2,
       "version_minor": 0,
       "model_id": "0d8d92619d24466eba00309b6169e444"
      }
     },
     "metadata": {},
     "output_type": "display_data"
    },
    {
     "data": {
      "text/plain": [
       "vocab.json: 0.00B [00:00, ?B/s]"
      ],
      "application/vnd.jupyter.widget-view+json": {
       "version_major": 2,
       "version_minor": 0,
       "model_id": "e9b5f792666a4e39bf526d765f98f405"
      }
     },
     "metadata": {},
     "output_type": "display_data"
    },
    {
     "data": {
      "text/plain": [
       "merges.txt: 0.00B [00:00, ?B/s]"
      ],
      "application/vnd.jupyter.widget-view+json": {
       "version_major": 2,
       "version_minor": 0,
       "model_id": "3a602cc502d6414e9fcb0ec9fb775a9b"
      }
     },
     "metadata": {},
     "output_type": "display_data"
    },
    {
     "data": {
      "text/plain": [
       "tokenizer.json:   0%|          | 0.00/12.3M [00:00<?, ?B/s]"
      ],
      "application/vnd.jupyter.widget-view+json": {
       "version_major": 2,
       "version_minor": 0,
       "model_id": "0a572937dae54559a45abff26d004619"
      }
     },
     "metadata": {},
     "output_type": "display_data"
    },
    {
     "data": {
      "text/plain": [
       "added_tokens.json: 0.00B [00:00, ?B/s]"
      ],
      "application/vnd.jupyter.widget-view+json": {
       "version_major": 2,
       "version_minor": 0,
       "model_id": "efa03ebaed9c459aa4c49858d133ec36"
      }
     },
     "metadata": {},
     "output_type": "display_data"
    },
    {
     "data": {
      "text/plain": [
       "special_tokens_map.json:   0%|          | 0.00/759 [00:00<?, ?B/s]"
      ],
      "application/vnd.jupyter.widget-view+json": {
       "version_major": 2,
       "version_minor": 0,
       "model_id": "2d91cf56c232445e9673466257cac6b7"
      }
     },
     "metadata": {},
     "output_type": "display_data"
    }
   ],
   "execution_count": 6
  },
  {
   "metadata": {
    "ExecuteTime": {
     "end_time": "2025-04-01T17:49:51.089725Z",
     "start_time": "2025-04-01T17:49:49.410579Z"
    }
   },
   "cell_type": "code",
   "source": [
    "classifier.classify(\n",
    "    prompt=prompts[0],\n",
    "    target_tokens={\"pos\": \"Да\", \"neg\": \"Нет\"})"
   ],
   "id": "a7c2d9ab6b2ca2d0",
   "outputs": [
    {
     "data": {
      "text/plain": [
       "{'pos': 0.0, 'neg': 0.0}"
      ]
     },
     "execution_count": 8,
     "metadata": {},
     "output_type": "execute_result"
    }
   ],
   "execution_count": 8
  },
  {
   "metadata": {
    "ExecuteTime": {
     "end_time": "2025-04-01T17:22:26.641779Z",
     "start_time": "2025-04-01T17:22:26.628359Z"
    }
   },
   "cell_type": "code",
   "source": "prompts[0]",
   "id": "6d7990717f0ca498",
   "outputs": [
    {
     "data": {
      "text/plain": [
       "'Команда пользователя apt-get update, cwd /root, exit_code 0, duration 1.23, timestamp 2023-10-01T09:00:00Z. Вредоносная ли команда?'"
      ]
     },
     "execution_count": 46,
     "metadata": {},
     "output_type": "execute_result"
    }
   ],
   "execution_count": 46
  },
  {
   "metadata": {},
   "cell_type": "markdown",
   "source": "### PS токены зависят от регистра и пробелов",
   "id": "98735428fc04f354"
  },
  {
   "metadata": {
    "ExecuteTime": {
     "end_time": "2025-03-30T12:39:08.817657Z",
     "start_time": "2025-03-30T12:39:08.429235Z"
    }
   },
   "cell_type": "code",
   "source": "tokenizer = AutoTokenizer.from_pretrained(\"RefalMachine/RuadaptQwen2.5-1.5B-instruct\")",
   "id": "16a58931af5f9d2e",
   "outputs": [],
   "execution_count": 14
  },
  {
   "metadata": {
    "ExecuteTime": {
     "end_time": "2025-03-30T12:39:50.151288Z",
     "start_time": "2025-03-30T12:39:50.131356Z"
    }
   },
   "cell_type": "code",
   "source": [
    "# input_ids - это id токена в словаре модели\n",
    "tokenizer(\"Да\"), tokenizer(\"да\"), tokenizer(\" да \"), tokenizer(\"да \")"
   ],
   "id": "100b5ef35367f588",
   "outputs": [
    {
     "data": {
      "text/plain": [
       "({'input_ids': [103543], 'attention_mask': [1]},\n",
       " {'input_ids': [39490], 'attention_mask': [1]},\n",
       " {'input_ids': [91810, 220], 'attention_mask': [1, 1]},\n",
       " {'input_ids': [39490, 220], 'attention_mask': [1, 1]})"
      ]
     },
     "execution_count": 15,
     "metadata": {},
     "output_type": "execute_result"
    }
   ],
   "execution_count": 15
  }
 ],
 "metadata": {
  "kernelspec": {
   "display_name": "Python 3",
   "language": "python",
   "name": "python3"
  },
  "language_info": {
   "codemirror_mode": {
    "name": "ipython",
    "version": 2
   },
   "file_extension": ".py",
   "mimetype": "text/x-python",
   "name": "python",
   "nbconvert_exporter": "python",
   "pygments_lexer": "ipython2",
   "version": "2.7.6"
  }
 },
 "nbformat": 4,
 "nbformat_minor": 5
}
