{
 "cells": [
  {
   "metadata": {
    "ExecuteTime": {
     "end_time": "2025-04-19T11:34:33.037070Z",
     "start_time": "2025-04-19T11:34:33.023087Z"
    }
   },
   "cell_type": "code",
   "source": [
    "%load_ext autoreload\n",
    "%autoreload 2"
   ],
   "id": "26f5306240a92a23",
   "outputs": [],
   "execution_count": 1
  },
  {
   "metadata": {
    "collapsed": true,
    "ExecuteTime": {
     "end_time": "2025-04-19T11:34:35.890206Z",
     "start_time": "2025-04-19T11:34:33.876814Z"
    }
   },
   "cell_type": "code",
   "source": [
    "from transformers import AutoTokenizer, AutoModel\n",
    "import torch\n",
    "import json\n",
    "from src.classifiers import ZeroShotClassifierWithProbs, ZeroShotClassifierWithTextOutput"
   ],
   "id": "initial_id",
   "outputs": [],
   "execution_count": 2
  },
  {
   "metadata": {},
   "cell_type": "markdown",
   "source": "### Возможность генерировать ответь после размышлений (Можешь попробовать запромптить модель на размышления)",
   "id": "9af1756edbb0c884"
  },
  {
   "metadata": {
    "ExecuteTime": {
     "end_time": "2025-04-19T11:34:37.586345Z",
     "start_time": "2025-04-19T11:34:37.571326Z"
    }
   },
   "cell_type": "code",
   "source": [
    "system_prompt_think =\"\"\"\n",
    "Ты ассистент, который отвечает на вопросы. Прежде чем ответить - подумай, рассмотри все варианты и только потом дай ответ\n",
    "\"\"\""
   ],
   "id": "14f234c9a311df20",
   "outputs": [],
   "execution_count": 3
  },
  {
   "metadata": {
    "ExecuteTime": {
     "end_time": "2025-04-19T11:34:44.038259Z",
     "start_time": "2025-04-19T11:34:42.380120Z"
    }
   },
   "cell_type": "code",
   "source": "classifier = ZeroShotClassifierWithTextOutput(system_prompt=system_prompt_think, model_name=\"RefalMachine/RuadaptQwen2.5-1.5B-instruct\", device=\"cuda\")",
   "id": "a1cec5d4ed141aab",
   "outputs": [],
   "execution_count": 4
  },
  {
   "metadata": {
    "ExecuteTime": {
     "end_time": "2025-04-19T11:34:59.979488Z",
     "start_time": "2025-04-19T11:34:59.793258Z"
    }
   },
   "cell_type": "code",
   "source": [
    "# Используй debug=True, чтобы посмотреть, что конкретно модель в данный момент пишет\n",
    "result = classifier.answer(prompt=\"Пользователь запустил вредоносный скрипт на сервере, который удалил все файлы в директории /tmp. Вопрос: это вредоносный скрипт?\", debug=True, do_sample=True)"
   ],
   "id": "90183c9a6109cd59",
   "outputs": [
    {
     "name": "stdout",
     "output_type": "stream",
     "text": [
      "<|im_start|>assistant\\n<result>Да</result><|im_end|>"
     ]
    }
   ],
   "execution_count": 8
  },
  {
   "metadata": {
    "ExecuteTime": {
     "end_time": "2025-04-19T11:34:58.583258Z",
     "start_time": "2025-04-19T11:34:58.569240Z"
    }
   },
   "cell_type": "code",
   "source": "print(result)",
   "id": "b44e992683f36bc6",
   "outputs": [
    {
     "name": "stdout",
     "output_type": "stream",
     "text": [
      "Да\n"
     ]
    }
   ],
   "execution_count": 7
  },
  {
   "metadata": {},
   "cell_type": "markdown",
   "source": "### Классификация \"сразу\"",
   "id": "2b363883137d38bc"
  },
  {
   "metadata": {
    "ExecuteTime": {
     "end_time": "2025-04-19T11:37:01.674152Z",
     "start_time": "2025-04-19T11:37:01.648986Z"
    }
   },
   "cell_type": "code",
   "source": [
    "system_prompt = \"\"\"\n",
    "Ты ассистент, который отвечает на вопросы, используя только да или нет.\n",
    "\"\"\""
   ],
   "id": "55fbd74587878740",
   "outputs": [],
   "execution_count": 10
  },
  {
   "metadata": {
    "ExecuteTime": {
     "end_time": "2025-04-19T11:37:07.275417Z",
     "start_time": "2025-04-19T11:37:06.023075Z"
    }
   },
   "cell_type": "code",
   "source": "classifier = ZeroShotClassifierWithProbs(model_name=\"RefalMachine/RuadaptQwen2.5-1.5B-instruct\", system_prompt=system_prompt, device=\"cuda\")",
   "id": "9c358cb3c38703b3",
   "outputs": [],
   "execution_count": 11
  },
  {
   "metadata": {
    "ExecuteTime": {
     "end_time": "2025-04-19T11:40:21.348523Z",
     "start_time": "2025-04-19T11:40:21.159605Z"
    }
   },
   "cell_type": "code",
   "source": [
    "classifier.classify(\n",
    "    prompt=\"Пользователь запустил вредоносный скрипт на сервере, который удалил все файлы в директории /tmp. Вопрос: это вредоносный скрипт?\",\n",
    "    target_tokens={\"pos\": \"Да\", \"neg\": \"Нет\"})"
   ],
   "id": "a7c2d9ab6b2ca2d0",
   "outputs": [
    {
     "data": {
      "text/plain": [
       "0.9984513310402164"
      ]
     },
     "execution_count": 13,
     "metadata": {},
     "output_type": "execute_result"
    }
   ],
   "execution_count": 13
  },
  {
   "metadata": {},
   "cell_type": "markdown",
   "source": "### PS токены зависят от регистра и пробелов",
   "id": "98735428fc04f354"
  },
  {
   "metadata": {
    "ExecuteTime": {
     "end_time": "2025-03-30T12:39:08.817657Z",
     "start_time": "2025-03-30T12:39:08.429235Z"
    }
   },
   "cell_type": "code",
   "source": "tokenizer = AutoTokenizer.from_pretrained(\"RefalMachine/RuadaptQwen2.5-1.5B-instruct\")",
   "id": "16a58931af5f9d2e",
   "outputs": [],
   "execution_count": 14
  },
  {
   "metadata": {
    "ExecuteTime": {
     "end_time": "2025-03-30T12:39:50.151288Z",
     "start_time": "2025-03-30T12:39:50.131356Z"
    }
   },
   "cell_type": "code",
   "source": [
    "# input_ids - это id токена в словаре модели\n",
    "tokenizer(\"Да\"), tokenizer(\"да\"), tokenizer(\" да \"), tokenizer(\"да \")"
   ],
   "id": "100b5ef35367f588",
   "outputs": [
    {
     "data": {
      "text/plain": [
       "({'input_ids': [103543], 'attention_mask': [1]},\n",
       " {'input_ids': [39490], 'attention_mask': [1]},\n",
       " {'input_ids': [91810, 220], 'attention_mask': [1, 1]},\n",
       " {'input_ids': [39490, 220], 'attention_mask': [1, 1]})"
      ]
     },
     "execution_count": 15,
     "metadata": {},
     "output_type": "execute_result"
    }
   ],
   "execution_count": 15
  }
 ],
 "metadata": {
  "kernelspec": {
   "display_name": "Python 3",
   "language": "python",
   "name": "python3"
  },
  "language_info": {
   "codemirror_mode": {
    "name": "ipython",
    "version": 2
   },
   "file_extension": ".py",
   "mimetype": "text/x-python",
   "name": "python",
   "nbconvert_exporter": "python",
   "pygments_lexer": "ipython2",
   "version": "2.7.6"
  }
 },
 "nbformat": 4,
 "nbformat_minor": 5
}
