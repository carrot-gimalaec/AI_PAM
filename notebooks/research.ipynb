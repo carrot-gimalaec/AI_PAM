{
 "cells": [
  {
   "metadata": {
    "ExecuteTime": {
     "end_time": "2025-03-30T12:36:33.861114Z",
     "start_time": "2025-03-30T12:36:33.847543Z"
    }
   },
   "cell_type": "code",
   "source": [
    "%load_ext autoreload\n",
    "%autoreload 2"
   ],
   "id": "26f5306240a92a23",
   "outputs": [],
   "execution_count": 1
  },
  {
   "metadata": {
    "collapsed": true,
    "ExecuteTime": {
     "end_time": "2025-03-30T12:40:39.979265Z",
     "start_time": "2025-03-30T12:40:39.962127Z"
    }
   },
   "cell_type": "code",
   "source": [
    "from transformers import AutoTokenizer\n",
    "import torch\n",
    "from src.classifiers import ZeroShotClassifier"
   ],
   "id": "initial_id",
   "outputs": [],
   "execution_count": 16
  },
  {
   "metadata": {},
   "cell_type": "markdown",
   "source": "### Возможность генерировать ответь после размышлений (Можешь попробовать запромптить модель на размышления)",
   "id": "9af1756edbb0c884"
  },
  {
   "metadata": {
    "ExecuteTime": {
     "end_time": "2025-03-30T12:37:35.158483Z",
     "start_time": "2025-03-30T12:37:35.145544Z"
    }
   },
   "cell_type": "code",
   "source": [
    "system_prompt_think =\\\n",
    "\"\"\"\n",
    "Ты ассистент, который отвечает на вопросы, используя только да или нет. Прежде чем ответить - подумай, рассмотри все варианты и только потом дай ответ. Перед ответом: да или нет, напиши thinking:, т.е. после цепочки рассуждений напиши - thinking:да\n",
    "\"\"\""
   ],
   "id": "14f234c9a311df20",
   "outputs": [],
   "execution_count": 11
  },
  {
   "metadata": {},
   "cell_type": "code",
   "outputs": [],
   "execution_count": null,
   "source": "classifier = ZeroShotClassifier(system_prompt=system_prompt_think)",
   "id": "a1cec5d4ed141aab"
  },
  {
   "metadata": {
    "ExecuteTime": {
     "end_time": "2025-03-30T12:37:59.922956Z",
     "start_time": "2025-03-30T12:37:56.205433Z"
    }
   },
   "cell_type": "code",
   "source": [
    "classifier.classify(\n",
    "    prompt=\"Пользователь запустил вредоносный скрипт на сервере, который удалил все файлы в директории /tmp. Вопрос: это вредоносный скрипт?\",\n",
    "    target_tokens={\"pos\": \"Да\", \"neg\": \"Нет\"}, classification_trigger_tokens=\"thinking:\")"
   ],
   "id": "90183c9a6109cd59",
   "outputs": [
    {
     "data": {
      "text/plain": [
       "{'pos': 0.0837, 'neg': 0.00789}"
      ]
     },
     "execution_count": 13,
     "metadata": {},
     "output_type": "execute_result"
    }
   ],
   "execution_count": 13
  },
  {
   "metadata": {},
   "cell_type": "markdown",
   "source": "### Классификация \"сразу\"",
   "id": "2b363883137d38bc"
  },
  {
   "metadata": {
    "ExecuteTime": {
     "end_time": "2025-03-30T12:37:12.666949Z",
     "start_time": "2025-03-30T12:37:12.642326Z"
    }
   },
   "cell_type": "code",
   "source": [
    "system_prompt =\\\n",
    "\"\"\"\n",
    "Ты ассистент, который отвечает на вопросы, используя только да или нет.\n",
    "\"\"\""
   ],
   "id": "55fbd74587878740",
   "outputs": [],
   "execution_count": 8
  },
  {
   "metadata": {
    "ExecuteTime": {
     "end_time": "2025-03-30T12:37:15.706267Z",
     "start_time": "2025-03-30T12:37:14.545559Z"
    }
   },
   "cell_type": "code",
   "source": "classifier = ZeroShotClassifier(system_prompt=system_prompt)",
   "id": "9c358cb3c38703b3",
   "outputs": [],
   "execution_count": 9
  },
  {
   "metadata": {
    "ExecuteTime": {
     "end_time": "2025-03-30T12:37:18.022723Z",
     "start_time": "2025-03-30T12:37:16.623220Z"
    }
   },
   "cell_type": "code",
   "source": [
    "classifier.classify(\n",
    "    prompt=\"Пользователь запустил вредоносный скрипт на сервере, который удалил все файлы в директории /tmp. Вопрос: это вредоносный скрипт?\",\n",
    "    target_tokens={\"pos\": \"Да\", \"neg\": \"Нет\"})"
   ],
   "id": "a7c2d9ab6b2ca2d0",
   "outputs": [
    {
     "data": {
      "text/plain": [
       "{'pos': 0.92408, 'neg': 0.00122}"
      ]
     },
     "execution_count": 10,
     "metadata": {},
     "output_type": "execute_result"
    }
   ],
   "execution_count": 10
  },
  {
   "metadata": {},
   "cell_type": "markdown",
   "source": "### PS токены зависят от регистра и пробелов",
   "id": "98735428fc04f354"
  },
  {
   "metadata": {
    "ExecuteTime": {
     "end_time": "2025-03-30T12:39:08.817657Z",
     "start_time": "2025-03-30T12:39:08.429235Z"
    }
   },
   "cell_type": "code",
   "source": "tokenizer = AutoTokenizer.from_pretrained(\"RefalMachine/RuadaptQwen2.5-1.5B-instruct\")",
   "id": "16a58931af5f9d2e",
   "outputs": [],
   "execution_count": 14
  },
  {
   "metadata": {
    "ExecuteTime": {
     "end_time": "2025-03-30T12:39:50.151288Z",
     "start_time": "2025-03-30T12:39:50.131356Z"
    }
   },
   "cell_type": "code",
   "source": [
    "# input_ids - это id токена в словаре модели\n",
    "tokenizer(\"Да\"), tokenizer(\"да\"), tokenizer(\" да \"), tokenizer(\"да \")"
   ],
   "id": "100b5ef35367f588",
   "outputs": [
    {
     "data": {
      "text/plain": [
       "({'input_ids': [103543], 'attention_mask': [1]},\n",
       " {'input_ids': [39490], 'attention_mask': [1]},\n",
       " {'input_ids': [91810, 220], 'attention_mask': [1, 1]},\n",
       " {'input_ids': [39490, 220], 'attention_mask': [1, 1]})"
      ]
     },
     "execution_count": 15,
     "metadata": {},
     "output_type": "execute_result"
    }
   ],
   "execution_count": 15
  }
 ],
 "metadata": {
  "kernelspec": {
   "display_name": "Python 3",
   "language": "python",
   "name": "python3"
  },
  "language_info": {
   "codemirror_mode": {
    "name": "ipython",
    "version": 2
   },
   "file_extension": ".py",
   "mimetype": "text/x-python",
   "name": "python",
   "nbconvert_exporter": "python",
   "pygments_lexer": "ipython2",
   "version": "2.7.6"
  }
 },
 "nbformat": 4,
 "nbformat_minor": 5
}
